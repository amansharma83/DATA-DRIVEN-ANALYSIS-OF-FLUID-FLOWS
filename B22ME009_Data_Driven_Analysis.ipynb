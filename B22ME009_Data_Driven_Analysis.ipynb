{
  "nbformat": 4,
  "nbformat_minor": 0,
  "metadata": {
    "colab": {
      "provenance": []
    },
    "kernelspec": {
      "name": "python3",
      "display_name": "Python 3"
    },
    "language_info": {
      "name": "python"
    }
  },
  "cells": [
    {
      "cell_type": "markdown",
      "source": [
        "***Code for Extracting the Stack of images from Video.***"
      ],
      "metadata": {
        "id": "Vw-2UclfoS2-"
      }
    },
    {
      "cell_type": "markdown",
      "source": [
        "***3.1 Image Generation***"
      ],
      "metadata": {
        "id": "TmnWhxQj5iZX"
      }
    },
    {
      "cell_type": "code",
      "source": [
        "from moviepy.editor import VideoFileClip\n",
        "import os\n",
        "import imageio"
      ],
      "metadata": {
        "id": "51MxzITFok7G"
      },
      "execution_count": null,
      "outputs": []
    },
    {
      "cell_type": "code",
      "source": [
        "def video_to_images(video_path, output_folder):\n",
        "    # Create output folder if it doesn't exist\n",
        "    if not os.path.exists(output_folder):\n",
        "        os.makedirs(output_folder)\n",
        "\n",
        "    # Load video file\n",
        "    clip = VideoFileClip(video_path)\n",
        "\n",
        "    # Iterate over each frame and save it as an image\n",
        "    for i, frame in enumerate(clip.iter_frames()):\n",
        "        # Construct the output image filename\n",
        "        image_filename = os.path.join(output_folder, f\"frame_{i:04d}.jpg\")\n",
        "\n",
        "        # Save the frame as an image using imageio\n",
        "        imageio.imwrite(image_filename, frame)\n",
        "\n",
        "    # Close the video clip\n",
        "    clip.close()"
      ],
      "metadata": {
        "id": "5sjenQTvonTV"
      },
      "execution_count": null,
      "outputs": []
    },
    {
      "cell_type": "code",
      "source": [
        "# Example usage\n",
        "video_path = \"C:\\\\Users\\\\harsh\\\\OneDrive\\\\Desktop\\\\3CYL_Flow.mp4\"\n",
        "output_folder = \"output_images\"\n",
        "video_to_images(video_path, output_folder)"
      ],
      "metadata": {
        "id": "6C4xLhAGorIR"
      },
      "execution_count": null,
      "outputs": []
    },
    {
      "cell_type": "markdown",
      "source": [
        "***Implementation of POD using PCA on Stacks of images.***"
      ],
      "metadata": {
        "id": "dlepUn-1oytS"
      }
    },
    {
      "cell_type": "markdown",
      "source": [
        "***3.2 Execute POD***"
      ],
      "metadata": {
        "id": "GlXRyv-U5qdO"
      }
    },
    {
      "cell_type": "markdown",
      "source": [
        "***3.3 Analyse POD Modes***"
      ],
      "metadata": {
        "id": "SBkakzWk57wG"
      }
    },
    {
      "cell_type": "code",
      "source": [
        "from google.colab import drive\n",
        "drive.mount('/content/drive')"
      ],
      "metadata": {
        "id": "jiRKXuWEIr9L"
      },
      "execution_count": null,
      "outputs": []
    },
    {
      "cell_type": "code",
      "source": [
        "import os\n",
        "import numpy as np\n",
        "from PIL import Image\n",
        "import cv2\n",
        "import matplotlib.pyplot as plt\n",
        "from sklearn.decomposition import PCA\n",
        "from sklearn.model_selection import train_test_split\n",
        "from keras.models import Sequential\n",
        "from keras.layers import Conv2D, MaxPooling2D, UpSampling2D"
      ],
      "metadata": {
        "id": "vKfnMbLnPMjW"
      },
      "execution_count": null,
      "outputs": []
    },
    {
      "cell_type": "code",
      "source": [
        "image_folder_path = '/content/drive/MyDrive/output_images'"
      ],
      "metadata": {
        "id": "moSYEuQAgxGq"
      },
      "execution_count": null,
      "outputs": []
    },
    {
      "cell_type": "code",
      "source": [
        "# Function to load images and convert them to grayscale\n",
        "def load_images(image_folder_path, batch_size=50, resize=True, target_size=(400,400)):\n",
        "    images = []\n",
        "    for filename in os.listdir(image_folder_path):\n",
        "        img_path = os.path.join(image_folder_path, filename)\n",
        "        if img_path.endswith('.png') or img_path.endswith('.jpg'):\n",
        "            img = cv2.imread(img_path, cv2.IMREAD_COLOR)  # Read image in color mode\n",
        "            if resize:\n",
        "                img = cv2.resize(img, target_size, interpolation=cv2.INTER_AREA)\n",
        "            img_gray = cv2.cvtColor(img, cv2.COLOR_BGR2GRAY)  # Convert to grayscale\n",
        "            images.append(img_gray.flatten())\n",
        "            if len(images) == batch_size:\n",
        "                yield images\n",
        "                images = []\n",
        "    if images:\n",
        "        yield images"
      ],
      "metadata": {
        "id": "eucoIHGnkoX8"
      },
      "execution_count": null,
      "outputs": []
    },
    {
      "cell_type": "code",
      "source": [
        "# Function to perform PCA\n",
        "def perform_pca(image_generator, n_components=None):\n",
        "    images = []\n",
        "    for batch in image_generator:\n",
        "        images.extend(batch)\n",
        "    pca = PCA(n_components=n_components)\n",
        "    pca.fit(images)\n",
        "    return pca"
      ],
      "metadata": {
        "id": "MiqLPhXskpWw"
      },
      "execution_count": null,
      "outputs": []
    },
    {
      "cell_type": "code",
      "source": [
        "# Function to plot energy distribution\n",
        "def plot_energy_distribution(pca):\n",
        "    energy_percentage = pca.explained_variance_ratio_\n",
        "    modes = np.arange(1, len(energy_percentage) + 1)\n",
        "    plt.plot(modes, energy_percentage, marker='o')\n",
        "    plt.xlabel('Mode')\n",
        "    plt.ylabel('Energy Percentage')\n",
        "    plt.title('Energy Distribution among Modes')\n",
        "    plt.grid(True)\n",
        "    plt.show()"
      ],
      "metadata": {
        "id": "sJ16ZW2tksCl"
      },
      "execution_count": null,
      "outputs": []
    },
    {
      "cell_type": "code",
      "source": [
        "# Function to report top energy modes\n",
        "def report_top_modes(pca):\n",
        "    energy_percentage = pca.explained_variance_ratio_\n",
        "    top_modes_indices = np.argsort(energy_percentage)[::-1][:10]\n",
        "    top_modes_energy = energy_percentage[top_modes_indices]\n",
        "\n",
        "    print(\"Top 10 Energy Modes:\")\n",
        "    for i, mode_idx in enumerate(top_modes_indices):\n",
        "        print(f\"Mode {i+1}: Energy = {top_modes_energy[i]*100:.2f}%\")\n",
        "    return top_modes_indices, top_modes_energy"
      ],
      "metadata": {
        "id": "ZlyeUQQZkue1"
      },
      "execution_count": null,
      "outputs": []
    },
    {
      "cell_type": "code",
      "source": [
        "# Function to display top mode images\n",
        "def display_top_mode_images(pca, top_modes_indices, target_size=(400, 400), image_size=(8, 8)):\n",
        "    num_modes = len(top_modes_indices)\n",
        "    num_cols = 5\n",
        "    num_rows = (num_modes + num_cols - 1) // num_cols\n",
        "\n",
        "    fig, axes = plt.subplots(num_rows, num_cols, figsize=(image_size[0]*num_cols, image_size[1]*num_rows))\n",
        "    fig.subplots_adjust(hspace=0.3, wspace=0.1)\n",
        "\n",
        "    for i, mode_idx in enumerate(top_modes_indices):\n",
        "        # Generate synthetic image using PCA component\n",
        "        synthetic_coefficients = np.zeros(pca.n_components_)\n",
        "        synthetic_coefficients[mode_idx] = 3 * np.sqrt(pca.explained_variance_[mode_idx])\n",
        "        synthetic_image_flat = np.dot(synthetic_coefficients, pca.components_) + pca.mean_\n",
        "        synthetic_image = np.reshape(synthetic_image_flat, target_size)\n",
        "\n",
        "        # Convert to 8-bit unsigned integer\n",
        "        synthetic_image = synthetic_image.astype(np.uint8)\n",
        "\n",
        "        row = i // num_cols\n",
        "        col = i % num_cols\n",
        "        ax = axes[row, col]\n",
        "        ax.imshow(synthetic_image, cmap=None)  # Set cmap to None\n",
        "        ax.set_title(f\"Mode {i+1}\")\n",
        "        ax.axis('off')\n",
        "\n",
        "    # Hide empty subplots\n",
        "    for i in range(num_modes, num_rows * num_cols):\n",
        "        row = i // num_cols\n",
        "        col = i % num_cols\n",
        "        ax = axes[row, col]\n",
        "        ax.axis('off')\n",
        "\n",
        "    plt.show()\n"
      ],
      "metadata": {
        "id": "jh0fT6MLkxuN"
      },
      "execution_count": null,
      "outputs": []
    },
    {
      "cell_type": "code",
      "source": [
        "# Function to load and preprocess images from the folder\n",
        "def load_and_preprocess_images(folder_path, target_height=128, target_width=128):\n",
        "    images = []\n",
        "    for filename in os.listdir(folder_path):\n",
        "        img = Image.open(os.path.join(folder_path, filename))\n",
        "        # Resize image\n",
        "        img = img.resize((target_width, target_height))\n",
        "        # Convert image to numpy array and normalize\n",
        "        img_array = np.array(img) / 255.0\n",
        "        images.append(img_array)\n",
        "    return np.array(images)"
      ],
      "metadata": {
        "id": "kXGwGrJhUV-e"
      },
      "execution_count": null,
      "outputs": []
    },
    {
      "cell_type": "code",
      "source": [
        "batch_size = 50  # Adjust based on your memory constraints\n",
        "image_generator = load_images(image_folder_path, batch_size=batch_size)"
      ],
      "metadata": {
        "id": "nvds5uTLk2cq"
      },
      "execution_count": null,
      "outputs": []
    },
    {
      "cell_type": "code",
      "source": [
        "# Perform PCA\n",
        "pca = perform_pca(image_generator)"
      ],
      "metadata": {
        "id": "dXwxrdKFk39s"
      },
      "execution_count": null,
      "outputs": []
    },
    {
      "cell_type": "code",
      "source": [
        "# Load and preprocess images from the folder\n",
        "image_stack = load_and_preprocess_images(image_folder_path)"
      ],
      "metadata": {
        "id": "2YLnTnaiUNDs"
      },
      "execution_count": null,
      "outputs": []
    },
    {
      "cell_type": "code",
      "source": [
        "# Vectorize the data\n",
        "num_images, height, width, channels = image_stack.shape\n",
        "data = image_stack.reshape(num_images, -1)"
      ],
      "metadata": {
        "id": "MymDC_AjT1S2"
      },
      "execution_count": null,
      "outputs": []
    },
    {
      "cell_type": "code",
      "source": [
        "# Perform PCA\n",
        "pca1 = PCA()\n",
        "pca1.fit(data)"
      ],
      "metadata": {
        "id": "vmBR5SSKVIZp"
      },
      "execution_count": null,
      "outputs": []
    },
    {
      "cell_type": "code",
      "source": [
        "# Plot the mean image\n",
        "mean_image = pca1.mean_.reshape(height, width, channels)\n",
        "plt.imshow(mean_image)\n",
        "plt.title('Mean Image')\n",
        "plt.axis('off')\n",
        "plt.show()"
      ],
      "metadata": {
        "id": "jhUKmO8FUyI8"
      },
      "execution_count": null,
      "outputs": []
    },
    {
      "cell_type": "code",
      "source": [
        "# Plot Energy Distribution\n",
        "plot_energy_distribution(pca)\n",
        "\n",
        "# Report Top 10 Energy Modes\n",
        "top_modes_indices, _ = report_top_modes(pca)"
      ],
      "metadata": {
        "id": "4s-9oYAJk7AC"
      },
      "execution_count": null,
      "outputs": []
    },
    {
      "cell_type": "code",
      "source": [
        "# Display Images corresponding to Top Modes\n",
        "display_top_mode_images(pca, top_modes_indices)"
      ],
      "metadata": {
        "id": "L8EP9xhblfkU"
      },
      "execution_count": null,
      "outputs": []
    },
    {
      "cell_type": "markdown",
      "source": [
        "***Code for implimentation of adding Noise with Magnitude 20%, 40%, 60% and 80%***"
      ],
      "metadata": {
        "id": "2mUc9pV94dbC"
      }
    },
    {
      "cell_type": "markdown",
      "source": [
        "***4. Noise!***"
      ],
      "metadata": {
        "id": "fYmrncCL6G6V"
      }
    },
    {
      "cell_type": "markdown",
      "source": [
        "***4.1 Adding Noise***"
      ],
      "metadata": {
        "id": "gTBR4LBJ6ScA"
      }
    },
    {
      "cell_type": "code",
      "source": [
        "# Define path to the folder containing original images\n",
        "original_image_folder_path = '/content/drive/MyDrive/output_images'\n",
        "# Define path to the folder to save noisy images\n",
        "noisy_image_folder_path = '/content/drive/MyDrive/noisy_images'"
      ],
      "metadata": {
        "id": "XJWTyXhjOy8r"
      },
      "execution_count": null,
      "outputs": []
    },
    {
      "cell_type": "markdown",
      "source": [
        "Gaussian Noise."
      ],
      "metadata": {
        "id": "fst873gu4uEG"
      }
    },
    {
      "cell_type": "code",
      "source": [
        "# Function to add Gaussian noise to an image\n",
        "def add_gaussian_noise(image, magnitude):\n",
        "    mean = 0\n",
        "    std = magnitude * np.max(image)\n",
        "    noisy_image = image + np.random.normal(mean, std, image.shape)\n",
        "    return np.clip(noisy_image, 0, 1)"
      ],
      "metadata": {
        "id": "PScHaRwLOzrn"
      },
      "execution_count": null,
      "outputs": []
    },
    {
      "cell_type": "markdown",
      "source": [
        "Salt and Pepper noise."
      ],
      "metadata": {
        "id": "ZDSGCtZk4zfU"
      }
    },
    {
      "cell_type": "code",
      "source": [
        "# Function to add salt and pepper noise to an image\n",
        "def add_salt_and_pepper_noise(image, magnitude):\n",
        "    noisy_image = np.copy(image)\n",
        "    salt_vs_pepper = 0.5\n",
        "    salt = np.ceil(magnitude * np.max(image) * salt_vs_pepper)\n",
        "    pepper = np.ceil(magnitude * np.max(image) * (1.0 - salt_vs_pepper))\n",
        "    # Add salt noise\n",
        "    coords = [np.random.randint(0, i - 1, int(salt)) for i in image.shape]\n",
        "    noisy_image[coords] = 1\n",
        "    # Add pepper noise\n",
        "    coords = [np.random.randint(0, i - 1, int(pepper)) for i in image.shape]\n",
        "    noisy_image[coords] = 0\n",
        "    return noisy_image"
      ],
      "metadata": {
        "id": "jVEDsdfnO5JR"
      },
      "execution_count": null,
      "outputs": []
    },
    {
      "cell_type": "markdown",
      "source": [
        "Speckle_Noise."
      ],
      "metadata": {
        "id": "7qR_nM3R43FZ"
      }
    },
    {
      "cell_type": "code",
      "source": [
        "# Function to add speckle noise to an image\n",
        "def add_speckle_noise(image, magnitude):\n",
        "    noisy_image = image + magnitude * np.random.normal(0, 1, image.shape)\n",
        "    return np.clip(noisy_image, 0, 1)"
      ],
      "metadata": {
        "id": "Wg_vsscCO77G"
      },
      "execution_count": null,
      "outputs": []
    },
    {
      "cell_type": "code",
      "source": [
        "# Define noise magnitudes and types\n",
        "noise_magnitudes = [0.2, 0.4, 0.6, 0.8]  # Noise magnitudes as a percentage of maximum magnitude\n",
        "noise_types = ['Gaussian', 'Salt_and_pepper', 'Speckle']"
      ],
      "metadata": {
        "id": "76APiPrLO-I6"
      },
      "execution_count": null,
      "outputs": []
    },
    {
      "cell_type": "markdown",
      "source": [
        "***Saving Noisy Images.***"
      ],
      "metadata": {
        "id": "lp9y1glM64sS"
      }
    },
    {
      "cell_type": "code",
      "source": [
        "# Create directories for noisy images\n",
        "for noise_type in noise_types:\n",
        "    for magnitude in noise_magnitudes:\n",
        "        folder_name = f'noisy_{noise_type}_magnitude_{int(magnitude * 100)}'\n",
        "        folder_path = os.path.join(noisy_image_folder_path, folder_name)\n",
        "        os.makedirs(folder_path, exist_ok=True)"
      ],
      "metadata": {
        "id": "aKDGcEU7PDtD"
      },
      "execution_count": null,
      "outputs": []
    },
    {
      "cell_type": "code",
      "source": [
        "# Add noise to original images and save noisy images\n",
        "for magnitude in noise_magnitudes:\n",
        "    for i, image in enumerate(image_stack):\n",
        "        for noise_type in noise_types:\n",
        "            if noise_type == 'Gaussian':\n",
        "                noisy_image = add_gaussian_noise(image, magnitude)\n",
        "            elif noise_type == 'Salt_and_pepper':\n",
        "                noisy_image = add_salt_and_pepper_noise(image, magnitude)\n",
        "            elif noise_type == 'Speckle':\n",
        "                noisy_image = add_speckle_noise(image, magnitude)\n",
        "            # Save noisy image\n",
        "            folder_name = f'noisy_{noise_type}_magnitude_{int(magnitude * 100)}'\n",
        "            folder_path = os.path.join(noisy_image_folder_path, folder_name)\n",
        "            noisy_image_name = f'noisy_{i}.png'\n",
        "            noisy_image_path = os.path.join(folder_path, noisy_image_name)\n",
        "            plt.imsave(noisy_image_path, noisy_image, cmap='gray')  # Save noisy image"
      ],
      "metadata": {
        "id": "RWNlZ5fSPHPg"
      },
      "execution_count": null,
      "outputs": []
    },
    {
      "cell_type": "markdown",
      "source": [
        "***4.2 Effect on POD Modes***"
      ],
      "metadata": {
        "id": "QsdlYXET6e2h"
      }
    },
    {
      "cell_type": "code",
      "source": [
        "image_folder_path20 = '/content/drive/MyDrive/noisy_images/noisy_Gaussian_magnitude_20'"
      ],
      "metadata": {
        "id": "SGcb1O8JotnF"
      },
      "execution_count": null,
      "outputs": []
    },
    {
      "cell_type": "code",
      "source": [
        "batch_size = 50  # Adjust based on your memory constraints\n",
        "image_generator = load_images(image_folder_path20, batch_size=batch_size)"
      ],
      "metadata": {
        "id": "2Ed2G9mefgej"
      },
      "execution_count": null,
      "outputs": []
    },
    {
      "cell_type": "code",
      "source": [
        "# Perform PCA\n",
        "pca = perform_pca(image_generator)"
      ],
      "metadata": {
        "id": "hVEqp4EWfi9f"
      },
      "execution_count": null,
      "outputs": []
    },
    {
      "cell_type": "code",
      "source": [
        "# Plot Energy Distribution\n",
        "plot_energy_distribution(pca)\n",
        "\n",
        "# Report Top 10 Energy Modes\n",
        "top_modes_indices, _ = report_top_modes(pca)"
      ],
      "metadata": {
        "id": "3rCOp7WkfvkR"
      },
      "execution_count": null,
      "outputs": []
    },
    {
      "cell_type": "code",
      "source": [
        "# Display Images corresponding to Top Modes\n",
        "display_top_mode_images(pca, top_modes_indices)"
      ],
      "metadata": {
        "id": "0LEAk97ufyY7"
      },
      "execution_count": null,
      "outputs": []
    },
    {
      "cell_type": "code",
      "source": [
        "# Calculate cumulative explained variance ratio\n",
        "cumulative_variance_ratio = np.cumsum(pca.explained_variance_ratio_)\n",
        "\n",
        "# Plot cumulative explained variance ratio\n",
        "plt.plot(cumulative_variance_ratio, marker='o')\n",
        "plt.xlabel('Number of Modes')\n",
        "plt.ylabel('Cumulative Explained Variance Ratio')\n",
        "plt.title('Cumulative Explained Variance Ratio')\n",
        "plt.grid(True)\n",
        "plt.show()"
      ],
      "metadata": {
        "id": "Pc1HgsEtzNRU"
      },
      "execution_count": null,
      "outputs": []
    },
    {
      "cell_type": "code",
      "source": [
        "image_folder_path40 = '/content/drive/MyDrive/noisy_images/noisy_Gaussian_magnitude_40'"
      ],
      "metadata": {
        "id": "GBWnzpmAhMgJ"
      },
      "execution_count": null,
      "outputs": []
    },
    {
      "cell_type": "code",
      "source": [
        "batch_size = 50  # Adjust based on your memory constraints\n",
        "image_generator = load_images(image_folder_path40, batch_size=batch_size)"
      ],
      "metadata": {
        "id": "96WHU3YphWIa"
      },
      "execution_count": null,
      "outputs": []
    },
    {
      "cell_type": "code",
      "source": [
        "# Perform PCA\n",
        "pca = perform_pca(image_generator)"
      ],
      "metadata": {
        "id": "ha3AnkxUhXQP"
      },
      "execution_count": null,
      "outputs": []
    },
    {
      "cell_type": "code",
      "source": [
        "# Plot Energy Distribution\n",
        "plot_energy_distribution(pca)\n",
        "\n",
        "# Report Top 10 Energy Modes\n",
        "top_modes_indices, _ = report_top_modes(pca)"
      ],
      "metadata": {
        "id": "ANYLtIzYhbP9"
      },
      "execution_count": null,
      "outputs": []
    },
    {
      "cell_type": "code",
      "source": [
        "# Calculate cumulative explained variance ratio\n",
        "cumulative_variance_ratio = np.cumsum(pca.explained_variance_ratio_)\n",
        "\n",
        "# Plot cumulative explained variance ratio\n",
        "plt.plot(cumulative_variance_ratio, marker='o')\n",
        "plt.xlabel('Number of Modes')\n",
        "plt.ylabel('Cumulative Explained Variance Ratio')\n",
        "plt.title('Cumulative Explained Variance Ratio')\n",
        "plt.grid(True)\n",
        "plt.show()"
      ],
      "metadata": {
        "id": "jAJj9GIA0FLd"
      },
      "execution_count": null,
      "outputs": []
    },
    {
      "cell_type": "code",
      "source": [
        "# Display Images corresponding to Top Modes\n",
        "display_top_mode_images(pca, top_modes_indices)"
      ],
      "metadata": {
        "id": "f8Q8Df-Phc0g"
      },
      "execution_count": null,
      "outputs": []
    },
    {
      "cell_type": "code",
      "source": [
        "image_folder_path60 = '/content/drive/MyDrive/noisy_images/noisy_Gaussian_magnitude_60'"
      ],
      "metadata": {
        "id": "BcjhV6PKiNO_"
      },
      "execution_count": null,
      "outputs": []
    },
    {
      "cell_type": "code",
      "source": [
        "batch_size = 50  # Adjust based on your memory constraints\n",
        "image_generator = load_images(image_folder_path60, batch_size=batch_size)"
      ],
      "metadata": {
        "id": "Zb0hBTqliUsm"
      },
      "execution_count": null,
      "outputs": []
    },
    {
      "cell_type": "code",
      "source": [
        "# Perform PCA\n",
        "pca = perform_pca(image_generator)"
      ],
      "metadata": {
        "id": "iXYvQfjJiVz5"
      },
      "execution_count": null,
      "outputs": []
    },
    {
      "cell_type": "code",
      "source": [
        "# Plot Energy Distribution\n",
        "plot_energy_distribution(pca)\n",
        "\n",
        "# Report Top 10 Energy Modes\n",
        "top_modes_indices, _ = report_top_modes(pca)"
      ],
      "metadata": {
        "id": "iAkYQNW0ictt"
      },
      "execution_count": null,
      "outputs": []
    },
    {
      "cell_type": "code",
      "source": [
        "# Calculate cumulative explained variance ratio\n",
        "cumulative_variance_ratio = np.cumsum(pca.explained_variance_ratio_)\n",
        "\n",
        "# Plot cumulative explained variance ratio\n",
        "plt.plot(cumulative_variance_ratio, marker='o')\n",
        "plt.xlabel('Number of Modes')\n",
        "plt.ylabel('Cumulative Explained Variance Ratio')\n",
        "plt.title('Cumulative Explained Variance Ratio')\n",
        "plt.grid(True)\n",
        "plt.show()"
      ],
      "metadata": {
        "id": "JrOry4Od2grA"
      },
      "execution_count": null,
      "outputs": []
    },
    {
      "cell_type": "code",
      "source": [
        "# Display Images corresponding to Top Modes\n",
        "display_top_mode_images(pca, top_modes_indices)"
      ],
      "metadata": {
        "id": "KpJ4hStFih4O"
      },
      "execution_count": null,
      "outputs": []
    },
    {
      "cell_type": "code",
      "source": [
        "image_folder_path80 = '/content/drive/MyDrive/noisy_images/noisy_Gaussian_magnitude_80'"
      ],
      "metadata": {
        "id": "O17e0MKZi96C"
      },
      "execution_count": null,
      "outputs": []
    },
    {
      "cell_type": "code",
      "source": [
        "batch_size = 50  # Adjust based on your memory constraints\n",
        "image_generator = load_images(image_folder_path80, batch_size=batch_size)"
      ],
      "metadata": {
        "id": "y86OVc09jAM-"
      },
      "execution_count": null,
      "outputs": []
    },
    {
      "cell_type": "code",
      "source": [
        "# Perform PCA\n",
        "pca = perform_pca(image_generator)"
      ],
      "metadata": {
        "id": "Ml_OI2sDjGNd"
      },
      "execution_count": null,
      "outputs": []
    },
    {
      "cell_type": "code",
      "source": [
        "# Plot Energy Distribution\n",
        "plot_energy_distribution(pca)\n",
        "\n",
        "# Report Top 10 Energy Modes\n",
        "top_modes_indices, _ = report_top_modes(pca)"
      ],
      "metadata": {
        "id": "okfnutC3jIzc"
      },
      "execution_count": null,
      "outputs": []
    },
    {
      "cell_type": "code",
      "source": [
        "# Calculate cumulative explained variance ratio\n",
        "cumulative_variance_ratio = np.cumsum(pca.explained_variance_ratio_)\n",
        "\n",
        "# Plot cumulative explained variance ratio\n",
        "plt.plot(cumulative_variance_ratio, marker='o')\n",
        "plt.xlabel('Number of Modes')\n",
        "plt.ylabel('Cumulative Explained Variance Ratio')\n",
        "plt.title('Cumulative Explained Variance Ratio')\n",
        "plt.grid(True)\n",
        "plt.show()"
      ],
      "metadata": {
        "id": "W-wby7Qz3Omy"
      },
      "execution_count": null,
      "outputs": []
    },
    {
      "cell_type": "code",
      "source": [
        "# Display Images corresponding to Top Modes\n",
        "display_top_mode_images(pca, top_modes_indices)"
      ],
      "metadata": {
        "id": "nCk7QLqhjLBs"
      },
      "execution_count": null,
      "outputs": []
    },
    {
      "cell_type": "code",
      "source": [
        "image_folder_path201 = '/content/drive/MyDrive/noisy_images/noisy_Salt_and_pepper_magnitude_20'"
      ],
      "metadata": {
        "id": "YPx-QWCIjuXM"
      },
      "execution_count": null,
      "outputs": []
    },
    {
      "cell_type": "code",
      "source": [
        "batch_size = 50  # Adjust based on your memory constraints\n",
        "image_generator = load_images(image_folder_path201, batch_size=batch_size)"
      ],
      "metadata": {
        "id": "ibynuvC8j3vT"
      },
      "execution_count": null,
      "outputs": []
    },
    {
      "cell_type": "code",
      "source": [
        "# Perform PCA\n",
        "pca = perform_pca(image_generator)"
      ],
      "metadata": {
        "id": "FWfSf3MKj5-g"
      },
      "execution_count": null,
      "outputs": []
    },
    {
      "cell_type": "code",
      "source": [
        "# Plot Energy Distribution\n",
        "plot_energy_distribution(pca)\n",
        "\n",
        "# Report Top 10 Energy Modes\n",
        "top_modes_indices, _ = report_top_modes(pca)"
      ],
      "metadata": {
        "id": "i8UCnkRZj-nr"
      },
      "execution_count": null,
      "outputs": []
    },
    {
      "cell_type": "code",
      "source": [
        "# Calculate cumulative explained variance ratio\n",
        "cumulative_variance_ratio = np.cumsum(pca.explained_variance_ratio_)\n",
        "\n",
        "# Plot cumulative explained variance ratio\n",
        "plt.plot(cumulative_variance_ratio, marker='o')\n",
        "plt.xlabel('Number of Modes')\n",
        "plt.ylabel('Cumulative Explained Variance Ratio')\n",
        "plt.title('Cumulative Explained Variance Ratio')\n",
        "plt.grid(True)\n",
        "plt.show()"
      ],
      "metadata": {
        "id": "djkPE4eg39fI"
      },
      "execution_count": null,
      "outputs": []
    },
    {
      "cell_type": "code",
      "source": [
        "# Display Images corresponding to Top Modes\n",
        "display_top_mode_images(pca, top_modes_indices)"
      ],
      "metadata": {
        "id": "zQPcvQbzkAkX"
      },
      "execution_count": null,
      "outputs": []
    },
    {
      "cell_type": "code",
      "source": [
        "image_folder_path401 = '/content/drive/MyDrive/noisy_images/noisy_Salt_and_pepper_magnitude_40'"
      ],
      "metadata": {
        "id": "HG9MTx0SothD"
      },
      "execution_count": null,
      "outputs": []
    },
    {
      "cell_type": "code",
      "source": [
        "batch_size = 50  # Adjust based on your memory constraints\n",
        "image_generator = load_images(image_folder_path401, batch_size=batch_size)"
      ],
      "metadata": {
        "id": "tJ8pVPD6o1Jl"
      },
      "execution_count": null,
      "outputs": []
    },
    {
      "cell_type": "code",
      "source": [
        "# Perform PCA\n",
        "pca = perform_pca(image_generator)"
      ],
      "metadata": {
        "id": "awT7X5eko01L"
      },
      "execution_count": null,
      "outputs": []
    },
    {
      "cell_type": "code",
      "source": [
        "# Plot Energy Distribution\n",
        "plot_energy_distribution(pca)\n",
        "\n",
        "# Report Top 10 Energy Modes\n",
        "top_modes_indices, _ = report_top_modes(pca)"
      ],
      "metadata": {
        "id": "teltLdQRo9tY"
      },
      "execution_count": null,
      "outputs": []
    },
    {
      "cell_type": "code",
      "source": [
        "# Calculate cumulative explained variance ratio\n",
        "cumulative_variance_ratio = np.cumsum(pca.explained_variance_ratio_)\n",
        "\n",
        "# Plot cumulative explained variance ratio\n",
        "plt.plot(cumulative_variance_ratio, marker='o')\n",
        "plt.xlabel('Number of Modes')\n",
        "plt.ylabel('Cumulative Explained Variance Ratio')\n",
        "plt.title('Cumulative Explained Variance Ratio')\n",
        "plt.grid(True)\n",
        "plt.show()"
      ],
      "metadata": {
        "id": "jM5dmSkW4nER"
      },
      "execution_count": null,
      "outputs": []
    },
    {
      "cell_type": "code",
      "source": [
        "# Display Images corresponding to Top Modes\n",
        "display_top_mode_images(pca, top_modes_indices)"
      ],
      "metadata": {
        "id": "2hGjndTrpBoj"
      },
      "execution_count": null,
      "outputs": []
    },
    {
      "cell_type": "code",
      "source": [
        "image_folder_path601 = '/content/drive/MyDrive/noisy_images/noisy_Salt_and_pepper_magnitude_60'"
      ],
      "metadata": {
        "id": "2GAkhMoJpupI"
      },
      "execution_count": null,
      "outputs": []
    },
    {
      "cell_type": "code",
      "source": [
        "batch_size = 50  # Adjust based on your memory constraints\n",
        "image_generator = load_images(image_folder_path601, batch_size=batch_size)"
      ],
      "metadata": {
        "id": "3pz3_KQ0p6jG"
      },
      "execution_count": null,
      "outputs": []
    },
    {
      "cell_type": "code",
      "source": [
        "# Perform PCA\n",
        "pca = perform_pca(image_generator)"
      ],
      "metadata": {
        "id": "mOssEGm9p6TT"
      },
      "execution_count": null,
      "outputs": []
    },
    {
      "cell_type": "code",
      "source": [
        "# Plot Energy Distribution\n",
        "plot_energy_distribution(pca)\n",
        "\n",
        "# Report Top 10 Energy Modes\n",
        "top_modes_indices, _ = report_top_modes(pca)"
      ],
      "metadata": {
        "id": "Hqjq84zBqAkF"
      },
      "execution_count": null,
      "outputs": []
    },
    {
      "cell_type": "code",
      "source": [
        "# Calculate cumulative explained variance ratio\n",
        "cumulative_variance_ratio = np.cumsum(pca.explained_variance_ratio_)\n",
        "\n",
        "# Plot cumulative explained variance ratio\n",
        "plt.plot(cumulative_variance_ratio, marker='o')\n",
        "plt.xlabel('Number of Modes')\n",
        "plt.ylabel('Cumulative Explained Variance Ratio')\n",
        "plt.title('Cumulative Explained Variance Ratio')\n",
        "plt.grid(True)\n",
        "plt.show()"
      ],
      "metadata": {
        "id": "_bLv5qBE5IRS"
      },
      "execution_count": null,
      "outputs": []
    },
    {
      "cell_type": "code",
      "source": [
        "# Display Images corresponding to Top Modes\n",
        "display_top_mode_images(pca, top_modes_indices)"
      ],
      "metadata": {
        "id": "4wERs2jPqChx"
      },
      "execution_count": null,
      "outputs": []
    },
    {
      "cell_type": "code",
      "source": [
        "image_folder_path801 = '/content/drive/MyDrive/noisy_images/noisy_Salt_and_pepper_magnitude_80'"
      ],
      "metadata": {
        "id": "RdQv8lMKqrgZ"
      },
      "execution_count": null,
      "outputs": []
    },
    {
      "cell_type": "code",
      "source": [
        "batch_size = 50  # Adjust based on your memory constraints\n",
        "image_generator = load_images(image_folder_path801, batch_size=batch_size)"
      ],
      "metadata": {
        "id": "II3fSmOarb_J"
      },
      "execution_count": null,
      "outputs": []
    },
    {
      "cell_type": "code",
      "source": [
        "# Perform PCA\n",
        "pca = perform_pca(image_generator)"
      ],
      "metadata": {
        "id": "ElYETbPKt_Q-"
      },
      "execution_count": null,
      "outputs": []
    },
    {
      "cell_type": "code",
      "source": [
        "# Plot Energy Distribution\n",
        "plot_energy_distribution(pca)\n",
        "\n",
        "# Report Top 10 Energy Modes\n",
        "top_modes_indices, _ = report_top_modes(pca)"
      ],
      "metadata": {
        "id": "6MgpBA1vrdQp"
      },
      "execution_count": null,
      "outputs": []
    },
    {
      "cell_type": "code",
      "source": [
        "# Calculate cumulative explained variance ratio\n",
        "cumulative_variance_ratio = np.cumsum(pca.explained_variance_ratio_)\n",
        "\n",
        "# Plot cumulative explained variance ratio\n",
        "plt.plot(cumulative_variance_ratio, marker='o')\n",
        "plt.xlabel('Number of Modes')\n",
        "plt.ylabel('Cumulative Explained Variance Ratio')\n",
        "plt.title('Cumulative Explained Variance Ratio')\n",
        "plt.grid(True)\n",
        "plt.show()"
      ],
      "metadata": {
        "id": "3f_8KZT15sHy"
      },
      "execution_count": null,
      "outputs": []
    },
    {
      "cell_type": "code",
      "source": [
        "# Display Images corresponding to Top Modes\n",
        "display_top_mode_images(pca, top_modes_indices)"
      ],
      "metadata": {
        "id": "_fP5StV1re3q"
      },
      "execution_count": null,
      "outputs": []
    },
    {
      "cell_type": "code",
      "source": [
        "image_folder_path202 = '/content/drive/MyDrive/noisy_images/noisy_Speckle_magnitude_20'"
      ],
      "metadata": {
        "id": "U9P3_SlttWcT"
      },
      "execution_count": null,
      "outputs": []
    },
    {
      "cell_type": "code",
      "source": [
        "batch_size = 50  # Adjust based on your memory constraints\n",
        "image_generator = load_images(image_folder_path202, batch_size=batch_size)"
      ],
      "metadata": {
        "id": "3omvUydkti6Q"
      },
      "execution_count": null,
      "outputs": []
    },
    {
      "cell_type": "code",
      "source": [
        "# Perform PCA\n",
        "pca = perform_pca(image_generator)"
      ],
      "metadata": {
        "id": "seOM8wEQty4b"
      },
      "execution_count": null,
      "outputs": []
    },
    {
      "cell_type": "code",
      "source": [
        "# Plot Energy Distribution\n",
        "plot_energy_distribution(pca)\n",
        "\n",
        "# Report Top 10 Energy Modes\n",
        "top_modes_indices, _ = report_top_modes(pca)"
      ],
      "metadata": {
        "id": "7s6Nn85htlZQ"
      },
      "execution_count": null,
      "outputs": []
    },
    {
      "cell_type": "code",
      "source": [
        "# Calculate cumulative explained variance ratio\n",
        "cumulative_variance_ratio = np.cumsum(pca.explained_variance_ratio_)\n",
        "\n",
        "# Plot cumulative explained variance ratio\n",
        "plt.plot(cumulative_variance_ratio, marker='o')\n",
        "plt.xlabel('Number of Modes')\n",
        "plt.ylabel('Cumulative Explained Variance Ratio')\n",
        "plt.title('Cumulative Explained Variance Ratio')\n",
        "plt.grid(True)\n",
        "plt.show()"
      ],
      "metadata": {
        "id": "iyBEbr6E6K2X"
      },
      "execution_count": null,
      "outputs": []
    },
    {
      "cell_type": "code",
      "source": [
        "# Display Images corresponding to Top Modes\n",
        "display_top_mode_images(pca, top_modes_indices)"
      ],
      "metadata": {
        "id": "NDCwZkh0tnHl"
      },
      "execution_count": null,
      "outputs": []
    },
    {
      "cell_type": "code",
      "source": [
        "image_folder_path402 = '/content/drive/MyDrive/noisy_images/noisy_Speckle_magnitude_40'"
      ],
      "metadata": {
        "id": "TuED2DDVuTxe"
      },
      "execution_count": null,
      "outputs": []
    },
    {
      "cell_type": "code",
      "source": [
        "batch_size = 50  # Adjust based on your memory constraints\n",
        "image_generator = load_images(image_folder_path402, batch_size=batch_size)"
      ],
      "metadata": {
        "id": "mtkUDtq2uXHr"
      },
      "execution_count": null,
      "outputs": []
    },
    {
      "cell_type": "code",
      "source": [
        "# Perform PCA\n",
        "pca = perform_pca(image_generator)"
      ],
      "metadata": {
        "id": "wf-NnK2vuZ1T"
      },
      "execution_count": null,
      "outputs": []
    },
    {
      "cell_type": "code",
      "source": [
        "# Plot Energy Distribution\n",
        "plot_energy_distribution(pca)\n",
        "\n",
        "# Report Top 10 Energy Modes\n",
        "top_modes_indices, _ = report_top_modes(pca)"
      ],
      "metadata": {
        "id": "iwQWDNmSubu1"
      },
      "execution_count": null,
      "outputs": []
    },
    {
      "cell_type": "code",
      "source": [
        "# Calculate cumulative explained variance ratio\n",
        "cumulative_variance_ratio = np.cumsum(pca.explained_variance_ratio_)\n",
        "\n",
        "# Plot cumulative explained variance ratio\n",
        "plt.plot(cumulative_variance_ratio, marker='o')\n",
        "plt.xlabel('Number of Modes')\n",
        "plt.ylabel('Cumulative Explained Variance Ratio')\n",
        "plt.title('Cumulative Explained Variance Ratio')\n",
        "plt.grid(True)\n",
        "plt.show()"
      ],
      "metadata": {
        "id": "YFLYXD4f6waQ"
      },
      "execution_count": null,
      "outputs": []
    },
    {
      "cell_type": "code",
      "source": [
        "# Display Images corresponding to Top Modes\n",
        "display_top_mode_images(pca, top_modes_indices)"
      ],
      "metadata": {
        "id": "XqRKTDyWud6L"
      },
      "execution_count": null,
      "outputs": []
    },
    {
      "cell_type": "code",
      "source": [
        "image_folder_path602 = '/content/drive/MyDrive/noisy_images/noisy_Speckle_magnitude_60'"
      ],
      "metadata": {
        "id": "qDimdu4dvoQi"
      },
      "execution_count": null,
      "outputs": []
    },
    {
      "cell_type": "code",
      "source": [
        "batch_size = 50  # Adjust based on your memory constraints\n",
        "image_generator = load_images(image_folder_path602, batch_size=batch_size)"
      ],
      "metadata": {
        "id": "TLqlDSl5vpl1"
      },
      "execution_count": null,
      "outputs": []
    },
    {
      "cell_type": "code",
      "source": [
        "# Perform PCA\n",
        "pca = perform_pca(image_generator)"
      ],
      "metadata": {
        "id": "2o--auM-vqzv"
      },
      "execution_count": null,
      "outputs": []
    },
    {
      "cell_type": "code",
      "source": [
        "# Plot Energy Distribution\n",
        "plot_energy_distribution(pca)\n",
        "\n",
        "# Report Top 10 Energy Modes\n",
        "top_modes_indices, _ = report_top_modes(pca)"
      ],
      "metadata": {
        "id": "tz-5dQzWvsPU"
      },
      "execution_count": null,
      "outputs": []
    },
    {
      "cell_type": "code",
      "source": [
        "# Calculate cumulative explained variance ratio\n",
        "cumulative_variance_ratio = np.cumsum(pca.explained_variance_ratio_)\n",
        "\n",
        "# Plot cumulative explained variance ratio\n",
        "plt.plot(cumulative_variance_ratio, marker='o')\n",
        "plt.xlabel('Number of Modes')\n",
        "plt.ylabel('Cumulative Explained Variance Ratio')\n",
        "plt.title('Cumulative Explained Variance Ratio')\n",
        "plt.grid(True)\n",
        "plt.show()"
      ],
      "metadata": {
        "id": "A08MVBJm7Rk-"
      },
      "execution_count": null,
      "outputs": []
    },
    {
      "cell_type": "code",
      "source": [
        "# Display Images corresponding to Top Modes\n",
        "display_top_mode_images(pca, top_modes_indices)"
      ],
      "metadata": {
        "id": "UW28qzt4vtrO"
      },
      "execution_count": null,
      "outputs": []
    },
    {
      "cell_type": "code",
      "source": [
        "image_folder_path802 = '/content/drive/MyDrive/noisy_images/noisy_Speckle_magnitude_80'"
      ],
      "metadata": {
        "id": "fHIUGSn0wXyo"
      },
      "execution_count": null,
      "outputs": []
    },
    {
      "cell_type": "code",
      "source": [
        "batch_size = 50  # Adjust based on your memory constraints\n",
        "image_generator = load_images(image_folder_path802, batch_size=batch_size)"
      ],
      "metadata": {
        "id": "hgXKYR75wbyu"
      },
      "execution_count": null,
      "outputs": []
    },
    {
      "cell_type": "code",
      "source": [
        "# Perform PCA\n",
        "pca = perform_pca(image_generator)"
      ],
      "metadata": {
        "id": "HzNjSPEPwdJG"
      },
      "execution_count": null,
      "outputs": []
    },
    {
      "cell_type": "code",
      "source": [
        "# Plot Energy Distribution\n",
        "plot_energy_distribution(pca)\n",
        "\n",
        "# Report Top 10 Energy Modes\n",
        "top_modes_indices, _ = report_top_modes(pca)"
      ],
      "metadata": {
        "id": "p3mfkrbgweXI"
      },
      "execution_count": null,
      "outputs": []
    },
    {
      "cell_type": "code",
      "source": [
        "# Calculate cumulative explained variance ratio\n",
        "cumulative_variance_ratio = np.cumsum(pca.explained_variance_ratio_)\n",
        "\n",
        "# Plot cumulative explained variance ratio\n",
        "plt.plot(cumulative_variance_ratio, marker='o')\n",
        "plt.xlabel('Number of Modes')\n",
        "plt.ylabel('Cumulative Explained Variance Ratio')\n",
        "plt.title('Cumulative Explained Variance Ratio')\n",
        "plt.grid(True)\n",
        "plt.show()"
      ],
      "metadata": {
        "id": "6-KtyNF17y7N"
      },
      "execution_count": null,
      "outputs": []
    },
    {
      "cell_type": "code",
      "source": [
        "# Display Images corresponding to Top Modes\n",
        "display_top_mode_images(pca, top_modes_indices)"
      ],
      "metadata": {
        "id": "6dTDkSeUwfp6"
      },
      "execution_count": null,
      "outputs": []
    },
    {
      "cell_type": "markdown",
      "source": [
        "***5. Super-Resolving***"
      ],
      "metadata": {
        "id": "g6qZLxx18rdm"
      }
    },
    {
      "cell_type": "markdown",
      "source": [
        "***Implementation of Denoising using CNN arcitecture on Noisy_Gaussian with magnitude 20%.***"
      ],
      "metadata": {
        "id": "fKmxSFF27wBA"
      }
    },
    {
      "cell_type": "code",
      "source": [
        "# Load and preprocess noisy and clean images\n",
        "def load_images(image_folder_path, target_size=(256, 256)):\n",
        "    images = []\n",
        "    for filename in os.listdir(image_folder_path):\n",
        "        img_path = os.path.join(image_folder_path, filename)\n",
        "        if img_path.endswith('.png') or img_path.endswith('.jpg'):\n",
        "            img = cv2.imread(img_path, cv2.IMREAD_GRAYSCALE)  # Read image in grayscale mode\n",
        "            img = cv2.resize(img, target_size, interpolation=cv2.INTER_AREA)\n",
        "            img = img.astype('float32') / 255.0  # Normalize pixel values to [0, 1]\n",
        "            images.append(img)\n",
        "    return np.array(images)\n"
      ],
      "metadata": {
        "id": "3oxGQjJj8TSQ"
      },
      "execution_count": null,
      "outputs": []
    },
    {
      "cell_type": "code",
      "source": [
        "# Load noisy and clean images\n",
        "noisy_image_folder_path = '/content/drive/MyDrive/noisy_images/noisy_Gaussian_magnitude_20'\n",
        "clean_image_folder_path = '/content/drive/MyDrive/output_images'\n",
        "noisy_images = load_images(noisy_image_folder_path)\n",
        "clean_images = load_images(clean_image_folder_path)"
      ],
      "metadata": {
        "id": "jiPqy9UF85SU"
      },
      "execution_count": null,
      "outputs": []
    },
    {
      "cell_type": "code",
      "source": [
        "# Split the dataset into training and validation sets\n",
        "X_train, X_val, y_train, y_val = train_test_split(noisy_images, clean_images, test_size=0.2, random_state=42)"
      ],
      "metadata": {
        "id": "EYOuTtoB89PR"
      },
      "execution_count": null,
      "outputs": []
    },
    {
      "cell_type": "code",
      "source": [
        "# Define the CNN architecture (simple U-Net-like model)\n",
        "model = Sequential([\n",
        "    Conv2D(64, (3, 3), activation='relu', padding='same', input_shape=(256, 256, 1)),\n",
        "    MaxPooling2D((2, 2), padding='same'),\n",
        "    Conv2D(128, (3, 3), activation='relu', padding='same'),\n",
        "    UpSampling2D((2, 2)),\n",
        "    Conv2D(1, (3, 3), activation='sigmoid', padding='same')])"
      ],
      "metadata": {
        "id": "tC2vAVD08_34"
      },
      "execution_count": null,
      "outputs": []
    },
    {
      "cell_type": "code",
      "source": [
        "# Compile the model\n",
        "model.compile(optimizer='adam', loss='mean_squared_error')"
      ],
      "metadata": {
        "id": "1QqyG54y9B_L"
      },
      "execution_count": null,
      "outputs": []
    },
    {
      "cell_type": "code",
      "source": [
        "# Train the model\n",
        "history = model.fit(X_train, y_train, batch_size=32, epochs=10, validation_data=(X_val, y_val))"
      ],
      "metadata": {
        "id": "sBtPRwcT9GcQ"
      },
      "execution_count": null,
      "outputs": []
    },
    {
      "cell_type": "code",
      "source": [
        "# Plot training history (loss)\n",
        "plt.plot(history.history['loss'], label='Training Loss')\n",
        "plt.plot(history.history['val_loss'], label='Validation Loss')\n",
        "plt.xlabel('Epoch')\n",
        "plt.ylabel('Loss')\n",
        "plt.title('Training and Validation Loss')\n",
        "plt.legend()\n",
        "plt.show()"
      ],
      "metadata": {
        "id": "N6Ly3I839JrL"
      },
      "execution_count": null,
      "outputs": []
    },
    {
      "cell_type": "code",
      "source": [
        "# Evaluate the model\n",
        "loss = model.evaluate(X_val, y_val)\n",
        "print(\"Validation Loss:\", loss)"
      ],
      "metadata": {
        "id": "pwT1x1Sv9MKc"
      },
      "execution_count": null,
      "outputs": []
    },
    {
      "cell_type": "code",
      "source": [
        "# Plot example denoising results\n",
        "num_examples = 5\n",
        "plt.figure(figsize=(10, 4))\n",
        "for i in range(num_examples):\n",
        "    plt.subplot(2, num_examples, i+1)\n",
        "    plt.imshow(X_val[i].reshape(256, 256), cmap=None)\n",
        "    plt.title('Noisy Image')\n",
        "    plt.axis('off')\n",
        "\n",
        "    plt.subplot(2, num_examples, i+1+num_examples)\n",
        "    denoised_image = model.predict(np.expand_dims(X_val[i], axis=0)).reshape(256, 256)\n",
        "    plt.imshow(denoised_image, cmap=None)\n",
        "    plt.title('Denoised Image')\n",
        "    plt.axis('off')\n",
        "\n",
        "plt.tight_layout()\n",
        "plt.show()"
      ],
      "metadata": {
        "id": "wGlp5wr69OwD"
      },
      "execution_count": null,
      "outputs": []
    }
  ]
}